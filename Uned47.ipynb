{
  "nbformat": 4,
  "nbformat_minor": 0,
  "metadata": {
    "colab": {
      "provenance": [],
      "authorship_tag": "ABX9TyPtdFd62BjTC6psLFSRbJ6c",
      "include_colab_link": true
    },
    "kernelspec": {
      "name": "python3",
      "display_name": "Python 3"
    },
    "language_info": {
      "name": "python"
    }
  },
  "cells": [
    {
      "cell_type": "markdown",
      "metadata": {
        "id": "view-in-github",
        "colab_type": "text"
      },
      "source": [
        "<a href=\"https://colab.research.google.com/github/Sofanit/HandVideo/blob/main/Uned47.ipynb\" target=\"_parent\"><img src=\"https://colab.research.google.com/assets/colab-badge.svg\" alt=\"Open In Colab\"/></a>"
      ]
    },
    {
      "cell_type": "code",
      "execution_count": null,
      "metadata": {
        "id": "J7zcmtmVtBTL"
      },
      "outputs": [],
      "source": [
        "'''criticality as part of pypullet'''\n",
        "!pip install stable-baselines3[extra] pybullet"
      ]
    },
    {
      "cell_type": "code",
      "source": [
        "import numpy as np\n",
        "if not hasattr(np, 'bool8'):\n",
        "    np.bool8 = np.bool_\n"
      ],
      "metadata": {
        "id": "sFqUiHYi9DEL"
      },
      "execution_count": 12,
      "outputs": []
    },
    {
      "cell_type": "code",
      "source": [
        "import gym\n",
        "import pybullet_envs\n",
        "from stable_baselines3 import SAC\n",
        "from stable_baselines3.common.env_util import make_vec_env"
      ],
      "metadata": {
        "id": "gs6i6q31tJZE"
      },
      "execution_count": 13,
      "outputs": []
    },
    {
      "cell_type": "code",
      "source": [],
      "metadata": {
        "id": "IkXSI4Ty2VMo"
      },
      "execution_count": 5,
      "outputs": []
    },
    {
      "cell_type": "code",
      "source": [
        "from stable_baselines3.common.env_util import make_vec_env\n",
        "from gym.wrappers import StepAPICompatibility\n",
        "\n",
        "# Old gym env from pybullet\n",
        "raw_env = gym.make(\"ReacherBulletEnv-v0\")\n",
        "\n",
        "# Wrap for compatibility with new Gym API\n",
        "wrapped_env = StepAPICompatibility(raw_env, new_step_api=False)\n",
        "env = make_vec_env(lambda: wrapped_env, n_envs=1)"
      ],
      "metadata": {
        "id": "SaCUYz0w1zlo"
      },
      "execution_count": 18,
      "outputs": []
    },
    {
      "cell_type": "code",
      "source": [
        "model = SAC(\"MlpPolicy\", env, verbose=1)\n",
        "model.learn(total_timesteps=10000)"
      ],
      "metadata": {
        "id": "XDeTLMLv3qjD"
      },
      "execution_count": null,
      "outputs": []
    },
    {
      "cell_type": "code",
      "source": [
        "def collect_states(model, env, steps=500):\n",
        "    obs = env.reset()\n",
        "    if isinstance(obs, np.ndarray):\n",
        "        obs = obs.astype(np.float32)\n",
        "    states = [obs.copy()]\n",
        "\n",
        "    for _ in range(steps):\n",
        "        action, _ = model.predict(obs, deterministic=True)\n",
        "        obs, reward, done, info = env.step(action)\n",
        "        if isinstance(obs, np.ndarray):\n",
        "            obs = obs.astype(np.float32)\n",
        "        states.append(obs.copy())\n",
        "        if done:\n",
        "            obs = env.reset()\n",
        "    return np.array(states)"
      ],
      "metadata": {
        "id": "CQAST1BVES6o"
      },
      "execution_count": null,
      "outputs": []
    },
    {
      "cell_type": "code",
      "source": [],
      "metadata": {
        "id": "Q7Inn5Wo358f"
      },
      "execution_count": null,
      "outputs": []
    },
    {
      "cell_type": "code",
      "source": [
        "def collect_states(model, env, steps=500):\n",
        "    obs = env.reset()\n",
        "    # Unwrap if using VecEnv\n",
        "    if isinstance(obs, tuple): obs = obs[0]\n",
        "    if isinstance(obs, np.ndarray): obs = obs.astype(np.float32)\n",
        "\n",
        "    states = [obs.copy()]\n",
        "\n",
        "    for _ in range(steps):\n",
        "        action, _ = model.predict(obs, deterministic=True)\n",
        "        obs, reward, done, info = env.step(action)\n",
        "        if isinstance(obs, tuple): obs = obs[0]\n",
        "        if isinstance(obs, np.ndarray): obs = obs.astype(np.float32)\n",
        "        states.append(obs.copy())\n",
        "\n",
        "        if done:\n",
        "            obs = env.reset()\n",
        "            if isinstance(obs, tuple): obs = obs[0]\n",
        "\n",
        "    return np.array(states)  # shape = (steps+1, obs_dim)"
      ],
      "metadata": {
        "id": "aQUjX5sq3lZy"
      },
      "execution_count": 40,
      "outputs": []
    },
    {
      "cell_type": "code",
      "source": [
        "def compute_criticality(states):\n",
        "    return np.linalg.norm(states[1:] - states[:-1], axis=1)\n"
      ],
      "metadata": {
        "id": "RcsbBtCt3mhS"
      },
      "execution_count": 33,
      "outputs": []
    },
    {
      "cell_type": "code",
      "source": [
        "\n",
        "states = collect_states(model, env, steps=10000)\n",
        "print(\"states shape:\", states.shape)  #"
      ],
      "metadata": {
        "colab": {
          "base_uri": "https://localhost:8080/"
        },
        "id": "V9Dp2Rux13U6",
        "outputId": "bc88a739-08e4-4529-8512-0129f6536911"
      },
      "execution_count": 53,
      "outputs": [
        {
          "output_type": "stream",
          "name": "stdout",
          "text": [
            "states shape: (10001, 1, 9)\n"
          ]
        }
      ]
    },
    {
      "cell_type": "code",
      "source": [
        "crit_scores = compute_criticality(states)\n",
        "print(\"crit_scores shape:\", crit_scores.shape)"
      ],
      "metadata": {
        "colab": {
          "base_uri": "https://localhost:8080/"
        },
        "id": "Apa8G-tvMaJp",
        "outputId": "bb88b318-c548-4bee-98f8-4780dca0a308"
      },
      "execution_count": 54,
      "outputs": [
        {
          "output_type": "stream",
          "name": "stdout",
          "text": [
            "crit_scores shape: (10000, 9)\n"
          ]
        }
      ]
    },
    {
      "cell_type": "code",
      "source": [
        "env_eval = gym.make(\"ReacherBulletEnv-v0\")\n",
        "obs = env_eval.reset()\n",
        "total_reward = 0\n",
        "\n",
        "for _ in range(200):\n",
        "    action, _ = model.predict(obs, deterministic=True)\n",
        "    obs, reward, done, info = env_eval.step(action)\n",
        "    total_reward += reward\n",
        "    if done:\n",
        "        break\n",
        "\n",
        "print(\"Total episode reward:\", total_reward)"
      ],
      "metadata": {
        "id": "4CuTrkDsF-_A"
      },
      "execution_count": null,
      "outputs": []
    },
    {
      "cell_type": "code",
      "source": [
        "import pickle\n",
        "with open(\"criticality_scores_2000.pkl\", \"wb\") as f:\n",
        "    pickle.dump(crit_scores, f)"
      ],
      "metadata": {
        "id": "kaAif8CrNiGc"
      },
      "execution_count": 55,
      "outputs": []
    },
    {
      "cell_type": "code",
      "source": [],
      "metadata": {
        "id": "_eojYpylN2pO"
      },
      "execution_count": null,
      "outputs": []
    }
  ]
}